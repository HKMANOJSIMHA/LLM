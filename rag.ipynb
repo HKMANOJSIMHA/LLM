{
 "cells": [
  {
   "cell_type": "code",
   "execution_count": 1,
   "id": "e4045a80",
   "metadata": {},
   "outputs": [
    {
     "data": {
      "text/plain": [
       "True"
      ]
     },
     "execution_count": 1,
     "metadata": {},
     "output_type": "execute_result"
    }
   ],
   "source": [
    "#Retrival Agumented Genration\n",
    "import os\n",
    "from dotenv import load_dotenv\n",
    "load_dotenv()\n",
    "\n"
   ]
  },
  {
   "cell_type": "code",
   "execution_count": 2,
   "id": "04421627",
   "metadata": {},
   "outputs": [],
   "source": [
    "os.environ['OPENAI_API_KEY']=os.getenv('OPENAI_API_KEY')"
   ]
  },
  {
   "cell_type": "code",
   "execution_count": 3,
   "id": "1c43208d",
   "metadata": {},
   "outputs": [
    {
     "name": "stderr",
     "output_type": "stream",
     "text": [
      "/Users/manojsimha/MyWorkspace/LLM/LLM/env/lib/python3.9/site-packages/urllib3/__init__.py:35: NotOpenSSLWarning: urllib3 v2 only supports OpenSSL 1.1.1+, currently the 'ssl' module is compiled with 'LibreSSL 2.8.3'. See: https://github.com/urllib3/urllib3/issues/3020\n",
      "  warnings.warn(\n"
     ]
    }
   ],
   "source": [
    "from llama_index.core import VectorStoreIndex, SimpleDirectoryReader\n",
    "from llama_index.core.retrievers import VectorIndexRetriever\n",
    "from llama_index.core.query_engine import RetrieverQueryEngine\n",
    "from llama_index.core.postprocessor import SimilarityPostprocessor\n",
    "\n"
   ]
  },
  {
   "cell_type": "code",
   "execution_count": 4,
   "id": "4ad2d079",
   "metadata": {},
   "outputs": [
    {
     "name": "stderr",
     "output_type": "stream",
     "text": [
      "/Users/manojsimha/MyWorkspace/LLM/LLM/env/lib/python3.9/site-packages/tqdm/auto.py:21: TqdmWarning: IProgress not found. Please update jupyter and ipywidgets. See https://ipywidgets.readthedocs.io/en/stable/user_install.html\n",
      "  from .autonotebook import tqdm as notebook_tqdm\n",
      "Parsing nodes: 100%|██████████| 1/1 [00:00<00:00, 13.03it/s]\n",
      "Generating embeddings: 100%|██████████| 2/2 [00:01<00:00,  1.65it/s]\n"
     ]
    }
   ],
   "source": [
    "documents=SimpleDirectoryReader(\"data\").load_data()\n",
    "index = VectorStoreIndex.from_documents(documents,show_progress=True)\n",
    "query_engine = index.as_query_engine()\n"
   ]
  },
  {
   "cell_type": "code",
   "execution_count": 5,
   "id": "464d3891",
   "metadata": {},
   "outputs": [],
   "source": [
    "\n",
    "retriver = VectorIndexRetriever(index=index,similarity_top_k=4)\n",
    "post_processor = SimilarityPostprocessor(similarity_cutoff=-0.60)\n",
    "query_engine = RetrieverQueryEngine(retriever=retriver,node_postprocessors=[post_processor])"
   ]
  },
  {
   "cell_type": "code",
   "execution_count": 6,
   "id": "da2ed039",
   "metadata": {},
   "outputs": [],
   "source": [
    "response = query_engine.query(\"Who won ipl in 2024?\")"
   ]
  },
  {
   "cell_type": "code",
   "execution_count": 7,
   "id": "4f3c7a81",
   "metadata": {},
   "outputs": [
    {
     "name": "stdout",
     "output_type": "stream",
     "text": [
      "Final Response: Kolkata Knight Riders\n",
      "______________________________________________________________________\n",
      "Source Node 1/2\n",
      "Node ID: 08cc5ca1-07fc-4b48-b866-bce7df951d4e\n",
      "Similarity: 0.848303605813313\n",
      "Text: With each passing season, the IPL continues to push the\n",
      "boundaries of what is possible in the world of cricket, and it remains\n",
      "an important part of India’s sporting landscape.  Which Team won the\n",
      "Maximum IPL Titles? Mumbai Indians (MI) and Chennai Super Kings (CSK)\n",
      "have won the maximum number of IPL trophies to date. They have 5\n",
      "titles in their ...\n",
      "______________________________________________________________________\n",
      "Source Node 2/2\n",
      "Node ID: 15e66a68-1f6e-4e68-883c-3db4d9f4138b\n",
      "Similarity: 0.8338736038285304\n",
      "Text: Start of IPL The Indian Premier League, popularly known as IPL,\n",
      "is a professional Twenty20 cricket league in India that was founded in\n",
      "2008 by the Board of Control for Cricket in India (BCCI). The IPL has\n",
      "become one of the most popular and lucrative cricket leagues in the\n",
      "world, attracting top players from all over the globe.  The inaugural\n",
      "seas...\n"
     ]
    }
   ],
   "source": [
    "from llama_index.core.response.pprint_utils import pprint_response\n",
    "pprint_response(response,show_source=True)"
   ]
  },
  {
   "cell_type": "code",
   "execution_count": 8,
   "id": "35419ede",
   "metadata": {},
   "outputs": [
    {
     "name": "stdout",
     "output_type": "stream",
     "text": [
      "Kolkata Knight Riders\n"
     ]
    }
   ],
   "source": [
    "import os.path\n",
    "from llama_index.core import (\n",
    "    VectorStoreIndex,\n",
    "    SimpleDirectoryReader,\n",
    "    StorageContext,\n",
    "    load_index_from_storage,\n",
    ")\n",
    "\n",
    "# check if storage already exists\n",
    "PERSIST_DIR = \"./storage\"\n",
    "if not os.path.exists(PERSIST_DIR):\n",
    "    # load the documents and create the index\n",
    "    documents = SimpleDirectoryReader(\"data\").load_data()\n",
    "    index = VectorStoreIndex.from_documents(documents)\n",
    "    # store it for later\n",
    "    index.storage_context.persist(persist_dir=PERSIST_DIR)\n",
    "else:\n",
    "    # load the existing index\n",
    "    storage_context = StorageContext.from_defaults(persist_dir=PERSIST_DIR)\n",
    "    index = load_index_from_storage(storage_context)\n",
    "\n",
    "# either way we can now query the index\n",
    "query_engine = index.as_query_engine()\n",
    "response = query_engine.query(\"Who won ipl in 2024?\")\n",
    "print(response)"
   ]
  },
  {
   "cell_type": "code",
   "execution_count": null,
   "id": "25506be4",
   "metadata": {},
   "outputs": [],
   "source": []
  }
 ],
 "metadata": {
  "kernelspec": {
   "display_name": "env",
   "language": "python",
   "name": "python3"
  },
  "language_info": {
   "codemirror_mode": {
    "name": "ipython",
    "version": 3
   },
   "file_extension": ".py",
   "mimetype": "text/x-python",
   "name": "python",
   "nbconvert_exporter": "python",
   "pygments_lexer": "ipython3",
   "version": "3.9.6"
  }
 },
 "nbformat": 4,
 "nbformat_minor": 5
}
