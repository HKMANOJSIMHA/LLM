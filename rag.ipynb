{
 "cells": [
  {
   "cell_type": "code",
   "execution_count": 78,
   "id": "e4045a80",
   "metadata": {},
   "outputs": [
    {
     "data": {
      "text/plain": [
       "True"
      ]
     },
     "execution_count": 78,
     "metadata": {},
     "output_type": "execute_result"
    }
   ],
   "source": [
    "#Retrival Agumented Genration\n",
    "import os\n",
    "from dotenv import load_dotenv\n",
    "load_dotenv()\n",
    "\n"
   ]
  },
  {
   "cell_type": "code",
   "execution_count": 79,
   "id": "04421627",
   "metadata": {},
   "outputs": [],
   "source": [
    "os.environ['OPENAI_API_KEY']=os.getenv('OPENAI_API_KEY')"
   ]
  },
  {
   "cell_type": "code",
   "execution_count": 80,
   "id": "1c43208d",
   "metadata": {},
   "outputs": [],
   "source": [
    "from llama_index.core import VectorStoreIndex, SimpleDirectoryReader\n",
    "from llama_index.core.retrievers import VectorIndexRetriever\n",
    "from llama_index.core.query_engine import RetrieverQueryEngine\n",
    "from llama_index.core.postprocessor import SimilarityPostprocessor\n",
    "\n"
   ]
  },
  {
   "cell_type": "code",
   "execution_count": 81,
   "id": "4ad2d079",
   "metadata": {},
   "outputs": [
    {
     "name": "stderr",
     "output_type": "stream",
     "text": [
      "\n",
      "\n",
      "Parsing nodes: 100%|██████████| 1/1 [00:00<00:00, 379.75it/s]\n",
      "\n",
      "\n",
      "\u001b[A\u001b[A\n",
      "\n",
      "Generating embeddings: 100%|██████████| 2/2 [00:01<00:00,  1.77it/s]\n"
     ]
    }
   ],
   "source": [
    "documents=SimpleDirectoryReader(\"data\").load_data()\n",
    "index = VectorStoreIndex.from_documents(documents,show_progress=True)\n",
    "query_engine = index.as_query_engine()\n"
   ]
  },
  {
   "cell_type": "code",
   "execution_count": 86,
   "id": "464d3891",
   "metadata": {},
   "outputs": [],
   "source": [
    "\n",
    "retriver = VectorIndexRetriever(index=index,similarity_top_k=4)\n",
    "post_processor = SimilarityPostprocessor(similarity_cutoff=-0.60)\n",
    "query_engine = RetrieverQueryEngine(retriever=retriver,node_postprocessors=[post_processor])"
   ]
  },
  {
   "cell_type": "code",
   "execution_count": 88,
   "id": "da2ed039",
   "metadata": {},
   "outputs": [],
   "source": [
    "response = query_engine.query(\"Who won ipl in 2024?\")"
   ]
  },
  {
   "cell_type": "code",
   "execution_count": 89,
   "id": "4f3c7a81",
   "metadata": {},
   "outputs": [
    {
     "name": "stdout",
     "output_type": "stream",
     "text": [
      "Final Response: Kolkata Knight Riders\n",
      "______________________________________________________________________\n",
      "Source Node 1/2\n",
      "Node ID: cb29202d-0e18-4df2-b1a4-d2c29caca3d0\n",
      "Similarity: 0.848303605813313\n",
      "Text: With each passing season, the IPL continues to push the\n",
      "boundaries of what is possible in the world of cricket, and it remains\n",
      "an important part of India’s sporting landscape.  Which Team won the\n",
      "Maximum IPL Titles? Mumbai Indians (MI) and Chennai Super Kings (CSK)\n",
      "have won the maximum number of IPL trophies to date. They have 5\n",
      "titles in their ...\n",
      "______________________________________________________________________\n",
      "Source Node 2/2\n",
      "Node ID: 9d6356c0-3207-4920-b29b-2cd67130427f\n",
      "Similarity: 0.8338736038285304\n",
      "Text: Start of IPL The Indian Premier League, popularly known as IPL,\n",
      "is a professional Twenty20 cricket league in India that was founded in\n",
      "2008 by the Board of Control for Cricket in India (BCCI). The IPL has\n",
      "become one of the most popular and lucrative cricket leagues in the\n",
      "world, attracting top players from all over the globe.  The inaugural\n",
      "seas...\n"
     ]
    }
   ],
   "source": [
    "from llama_index.core.response.pprint_utils import pprint_response\n",
    "pprint_response(response,show_source=True)"
   ]
  },
  {
   "cell_type": "code",
   "execution_count": null,
   "id": "35419ede",
   "metadata": {},
   "outputs": [
    {
     "ename": "ImportError",
     "evalue": "cannot import name 'VectorStoreIndex' from 'llama_index' (unknown location)",
     "output_type": "error",
     "traceback": [
      "\u001b[0;31m---------------------------------------------------------------------------\u001b[0m",
      "\u001b[0;31mImportError\u001b[0m                               Traceback (most recent call last)",
      "Cell \u001b[0;32mIn[90], line 2\u001b[0m\n\u001b[1;32m      1\u001b[0m \u001b[38;5;28;01mimport\u001b[39;00m\u001b[38;5;250m \u001b[39m\u001b[38;5;21;01mos\u001b[39;00m\u001b[38;5;21;01m.\u001b[39;00m\u001b[38;5;21;01mpath\u001b[39;00m\n\u001b[0;32m----> 2\u001b[0m \u001b[38;5;28;01mfrom\u001b[39;00m\u001b[38;5;250m \u001b[39m\u001b[38;5;21;01mllama_index\u001b[39;00m\u001b[38;5;250m \u001b[39m\u001b[38;5;28;01mimport\u001b[39;00m (\n\u001b[1;32m      3\u001b[0m     VectorStoreIndex,\n\u001b[1;32m      4\u001b[0m     SimpleDirectoryReader,\n\u001b[1;32m      5\u001b[0m     StorageContext,\n\u001b[1;32m      6\u001b[0m     load_index_from_storage,\n\u001b[1;32m      7\u001b[0m )\n\u001b[1;32m      9\u001b[0m \u001b[38;5;66;03m# check if storage already exists\u001b[39;00m\n\u001b[1;32m     10\u001b[0m PERSIST_DIR \u001b[38;5;241m=\u001b[39m \u001b[38;5;124m\"\u001b[39m\u001b[38;5;124m./storage\u001b[39m\u001b[38;5;124m\"\u001b[39m\n",
      "\u001b[0;31mImportError\u001b[0m: cannot import name 'VectorStoreIndex' from 'llama_index' (unknown location)"
     ]
    }
   ],
   "source": [
    "import os.path\n",
    "from llama_index.core import (\n",
    "    VectorStoreIndex,\n",
    "    SimpleDirectoryReader,\n",
    "    StorageContext,\n",
    "    load_index_from_storage,\n",
    ")\n",
    "\n",
    "# check if storage already exists\n",
    "PERSIST_DIR = \"./storage\"\n",
    "if not os.path.exists(PERSIST_DIR):\n",
    "    # load the documents and create the index\n",
    "    documents = SimpleDirectoryReader(\"data\").load_data()\n",
    "    index = VectorStoreIndex.from_documents(documents)\n",
    "    # store it for later\n",
    "    index.storage_context.persist(persist_dir=PERSIST_DIR)\n",
    "else:\n",
    "    # load the existing index\n",
    "    storage_context = StorageContext.from_defaults(persist_dir=PERSIST_DIR)\n",
    "    index = load_index_from_storage(storage_context)\n",
    "\n",
    "# either way we can now query the index\n",
    "query_engine = index.as_query_engine()\n",
    "response = query_engine.query(\"Who won ipl in 2024?\")\n",
    "print(response)"
   ]
  },
  {
   "cell_type": "code",
   "execution_count": null,
   "id": "25506be4",
   "metadata": {},
   "outputs": [],
   "source": []
  }
 ],
 "metadata": {
  "kernelspec": {
   "display_name": "env",
   "language": "python",
   "name": "python3"
  },
  "language_info": {
   "codemirror_mode": {
    "name": "ipython",
    "version": 3
   },
   "file_extension": ".py",
   "mimetype": "text/x-python",
   "name": "python",
   "nbconvert_exporter": "python",
   "pygments_lexer": "ipython3",
   "version": "3.9.6"
  }
 },
 "nbformat": 4,
 "nbformat_minor": 5
}
